{
 "cells": [
  {
   "cell_type": "markdown",
   "metadata": {},
   "source": [
    "Get state boundary data from census.gov: [cb_2015_us_state_20m.zip](http://www2.census.gov/geo/tiger/GENZ2015/shp/cb_2015_us_state_20m.zip)"
   ]
  },
  {
   "cell_type": "code",
   "execution_count": 1,
   "metadata": {
    "collapsed": false
   },
   "outputs": [
    {
     "name": "stdout",
     "output_type": "stream",
     "text": [
      "--2016-10-11 16:42:24--  http://www2.census.gov/geo/tiger/GENZ2015/shp/cb_2015_us_state_20m.zip\n",
      "Resolving www2.census.gov (www2.census.gov)... 96.7.83.108, 2600:1408:1d:2a1::208c, 2600:1408:1d:28b::208c\n",
      "Connecting to www2.census.gov (www2.census.gov)|96.7.83.108|:80... connected.\n",
      "HTTP request sent, awaiting response... 200 OK\n",
      "Length: 191008 (187K) [application/zip]\n",
      "Server file no newer than local file ‘cb_2015_us_state_20m.zip’ -- not retrieving.\n",
      "\n"
     ]
    }
   ],
   "source": [
    "!wget http://www2.census.gov/geo/tiger/GENZ2015/shp/cb_2015_us_state_20m.zip -N"
   ]
  },
  {
   "cell_type": "code",
   "execution_count": 2,
   "metadata": {
    "collapsed": false
   },
   "outputs": [
    {
     "name": "stdout",
     "output_type": "stream",
     "text": [
      "Archive:  cb_2015_us_state_20m.zip\n",
      "replace cb_2015_us_state_20m.shp.ea.iso.xml? [y]es, [n]o, [A]ll, [N]one, [r]ename: ^C\n"
     ]
    }
   ],
   "source": [
    "!unzip cb_2015_us_state_20m.zip"
   ]
  },
  {
   "cell_type": "markdown",
   "metadata": {},
   "source": [
    "Use fiona library to read shape file"
   ]
  },
  {
   "cell_type": "code",
   "execution_count": 7,
   "metadata": {
    "collapsed": false
   },
   "outputs": [],
   "source": [
    "import fiona\n",
    "us_states = fiona.open('cb_2015_us_state_20m.shp')"
   ]
  },
  {
   "cell_type": "markdown",
   "metadata": {},
   "source": [
    "Use shapely for point-in-polygon testing"
   ]
  },
  {
   "cell_type": "code",
   "execution_count": 8,
   "metadata": {
    "collapsed": false
   },
   "outputs": [],
   "source": [
    "from shapely.geometry import Polygon, Point"
   ]
  },
  {
   "cell_type": "code",
   "execution_count": 9,
   "metadata": {
    "collapsed": false
   },
   "outputs": [],
   "source": [
    "texas_geometry = [state.get('geometry').get('coordinates')[0] \n",
    "                  for state in us_states if state.get('properties')['NAME'] == 'Texas'][0]\n",
    "\n",
    "texas = Polygon(texas_geometry)"
   ]
  },
  {
   "cell_type": "markdown",
   "metadata": {},
   "source": [
    "Look up some test points from [NASA lat-long finder](https://mynasadata.larc.nasa.gov/latitudelongitude-finder/)\n",
    "\n",
    "* San Antonio: 29.424122, -98.493628\n",
    "* Houston: 29.760427, -95.369803\n",
    "* Denver: 39.739236, -104.990251"
   ]
  },
  {
   "cell_type": "code",
   "execution_count": 10,
   "metadata": {
    "collapsed": false
   },
   "outputs": [
    {
     "name": "stdout",
     "output_type": "stream",
     "text": [
      "San Antonio: True\n",
      "Houston: True\n",
      "Denver: False\n"
     ]
    }
   ],
   "source": [
    "cities = [\n",
    "    ('San Antonio', Point(-98.493628, 29.424122)),\n",
    "    ('Houston', Point(-95.369803, 29.760427)),\n",
    "    ('Denver', Point(-104.990251, 39.739236))]\n",
    "\n",
    "for city in cities:\n",
    "    print(city[0] + ': ' + str(texas.contains(city[1])))\n"
   ]
  },
  {
   "cell_type": "markdown",
   "metadata": {
    "collapsed": true
   },
   "source": [
    "Given a point, determine what state it lies in"
   ]
  },
  {
   "cell_type": "code",
   "execution_count": 21,
   "metadata": {
    "collapsed": false
   },
   "outputs": [
    {
     "name": "stdout",
     "output_type": "stream",
     "text": [
      "Creating poly for Texas\n",
      "Creating poly for California\n",
      "Creating poly for Kentucky\n",
      "Creating poly for Georgia\n",
      "Creating poly for Wisconsin\n",
      "Creating poly for Oregon\n",
      "Creating poly for Virginia\n",
      "Creating poly for Tennessee\n",
      "Creating poly for Louisiana\n",
      "Creating poly for New York\n",
      "Creating poly for Michigan\n",
      "Creating poly for Idaho\n",
      "Creating poly for Florida\n",
      "Creating poly for Alaska\n",
      "Creating poly for Montana\n",
      "Creating poly for Minnesota\n",
      "Creating poly for Nebraska\n",
      "Creating poly for Washington\n",
      "Creating poly for Ohio\n",
      "Creating poly for Illinois\n",
      "Creating poly for Missouri\n",
      "Creating poly for Iowa\n",
      "Creating poly for South Dakota\n",
      "Creating poly for Arkansas\n",
      "Creating poly for Mississippi\n",
      "Creating poly for Colorado\n",
      "Creating poly for North Carolina\n",
      "Creating poly for Utah\n",
      "Creating poly for Oklahoma\n",
      "Creating poly for Wyoming\n",
      "Creating poly for West Virginia\n",
      "Creating poly for Indiana\n",
      "Creating poly for Massachusetts\n",
      "Creating poly for Nevada\n",
      "Creating poly for Connecticut\n",
      "Creating poly for District of Columbia\n",
      "Creating poly for Rhode Island\n",
      "Creating poly for Alabama\n",
      "Creating poly for Puerto Rico\n",
      "Creating poly for South Carolina\n",
      "Creating poly for Maine\n",
      "Creating poly for Hawaii\n",
      "Creating poly for Arizona\n",
      "Creating poly for New Mexico\n",
      "Creating poly for Maryland\n",
      "Creating poly for Delaware\n",
      "Creating poly for Pennsylvania\n",
      "Creating poly for Kansas\n",
      "Creating poly for Vermont\n",
      "Creating poly for New Jersey\n",
      "Creating poly for North Dakota\n",
      "Creating poly for New Hampshire\n"
     ]
    }
   ],
   "source": [
    "states = {}\n",
    "for state in us_states:\n",
    "    name = state.get('properties')['NAME']\n",
    "    print('Creating poly for ' + name)\n",
    "    try:\n",
    "        poly = Polygon(state.get('geometry').get('coordinates')[0])\n",
    "    except:\n",
    "        poly = Polygon(state.get('geometry').get('coordinates')[0][0])\n",
    "    states[name] = poly"
   ]
  },
  {
   "cell_type": "code",
   "execution_count": 34,
   "metadata": {
    "collapsed": false
   },
   "outputs": [
    {
     "data": {
      "image/svg+xml": [
       "<svg xmlns=\"http://www.w3.org/2000/svg\" xmlns:xlink=\"http://www.w3.org/1999/xlink\" width=\"100.0\" height=\"100.0\" viewBox=\"-84.6763974 33.4965836 9.5722668 3.4460618\" preserveAspectRatio=\"xMinYMin meet\"><g transform=\"matrix(1,0,0,-1,0,70.439229)\"><path fill-rule=\"evenodd\" fill=\"#66cc99\" stroke=\"#555555\" stroke-width=\"0.191445336\" opacity=\"0.6\" d=\"M -84.2865999377,35.2057486116 L -84.28322,35.226577 L -84.223718,35.269078 L -84.178516,35.240679 L -84.097508,35.247382 L -84.02911,35.2921201226 L -84.02351,35.295783 L -84.038081,35.348363 L -84.007586,35.371661 L -84.021782,35.407418 L -83.973171,35.452582 L -83.9588826945,35.4579125493 L -83.9531108543,35.4600658543 L -83.916801,35.473612 L -83.848502,35.519259 L -83.771736,35.562118 L -83.6628871985,35.567801083 L -83.653159,35.568309 L -83.587827,35.566963 L -83.498335,35.562981 L -83.452431,35.602918 L -83.421576,35.611186 L -83.347262,35.660474 L -83.297154,35.65775 L -83.2646341347,35.7032434268 L -83.2561877647,35.7150594141 L -83.255351,35.71623 L -83.198267,35.725494 L -83.161537,35.763363 L -83.097193,35.776067 L -83.04853,35.787706 L -82.978414,35.78261 L -82.9665503799,35.7955543945 L -82.937437,35.82732 L -82.899718,35.874602 L -82.910608,35.92693 L -82.8938663514,35.9338100376 L -82.860724,35.94743 L -82.81613,35.923986 L -82.787465,35.952163 L -82.779397,35.992511 L -82.725065,36.018204 L -82.628365,36.062105 L -82.605734614,36.0372329378 L -82.595525,36.026012 L -82.610885,35.974442 L -82.557874,35.953901 L -82.5078704552,35.9820905547 L -82.464558,36.006508 L -82.4169496699,36.0729531578 L -82.409458,36.083409 L -82.346857,36.115209 L -82.297655,36.13351 L -82.26569,36.127614 L -82.2202652123,36.1538130022 L -82.211251,36.159012 L -82.140847,36.136216 L -82.127146,36.104417 L -82.0805175606,36.1057096166 L -82.080143,36.10572 L -82.02874,36.124322 L -81.960101,36.228131 L -81.9343692445,36.2647162044 L -81.9184514278,36.287348029 L -81.908137,36.302013 L -81.833202,36.347339 L -81.768977,36.341042 L -81.705966,36.338496 L -81.7252385698,36.3893841238 L -81.734312,36.413342 L -81.695311,36.467912 L -81.699962,36.536829 L -81.677535,36.588117 L -81.499831,36.57982 L -81.3531310097,36.5762360271 L -81.176712,36.571926 L -81.061866,36.56702 L -80.9018360538,36.561754621 L -80.901726,36.561751 L -80.8402130772,36.5619284516 L -80.704831,36.562319 L -80.6121949964,36.5582165513 L -80.4401020487,36.5505952976 L -80.431605,36.550219 L -80.295243,36.543973 L -80.0534547797,36.5426394266 L -80.027269,36.542495 L -79.8915733993,36.5420335075 L -79.7148567192,36.5414325048 L -79.5109610388,36.540739068 L -79.510647,36.540738 L -79.4701512923,36.540835921 L -79.3426854635,36.5411441408 L -79.2186375287,36.541444096 L -79.137941086,36.5416392247 L -78.942009,36.542113 L -78.7962998871,36.5417595565 L -78.7341228205,36.5416087349 L -78.509965,36.541065 L -78.4574339815,36.5414475717 L -78.3236363959,36.5424219896 L -78.132911,36.543811 L -78.0461990157,36.5441977141 L -77.8997718373,36.5448507433 L -77.7671033342,36.5454424122 L -77.749706,36.54552 L -77.2987701888,36.5460390109 L -77.190175,36.546164 L -77.164354246,36.5461528335 L -76.917318,36.546046 L -76.9160634344,36.5460806183 L -76.915731348,36.5460897819 L -76.738329,36.550985 L -76.5415986844,36.5507841575 L -76.4914824299,36.5507329937 L -76.313215,36.550551 L -76.3131963675,36.5505510001 L -76.1223540306,36.5505523325 L -76.02675,36.550553 L -75.867044,36.550754 L -75.838437,36.434897 L -75.79641,36.290351 L -75.7706514626,36.2320803071 L -75.71831,36.113674 L -75.658537,36.02043 L -75.569794,35.863301 L -75.51901,35.769087 L -75.496086,35.728515 L -75.458659,35.596597 L -75.486771,35.391652 L -75.533627,35.225825 L -75.635493,35.22026 L -75.749561424,35.1856163622 L -75.757916,35.183079 L -75.912985,35.1196 L -76.013145,35.061855 L -76.137269,34.987858 L -76.233088,34.905477 L -76.31021,34.852309 L -76.386804,34.784579 L -76.450454,34.71445 L -76.535946,34.588577 L -76.553806,34.628252 L -76.618719,34.67255 L -76.726969,34.69669 L -76.906257,34.68282 L -77.1129640285,34.6380929113 L -77.136843,34.632926 L -77.240991,34.587507 L -77.322524,34.535574 L -77.462922,34.471354 L -77.5152165446,34.4373849694 L -77.635034,34.359555 L -77.7135131705,34.2902471867 L -77.764022,34.245641 L -77.829209,34.162618 L -77.8970895764,34.012513599 L -77.915536,33.971723 L -77.9348271351,33.9205485058 L -77.960172,33.853315 L -78.006765,33.858704 L -78.018689,33.888289 L -78.136952,33.912178 L -78.276147,33.912364 L -78.383964,33.901946 L -78.541087,33.851112 L -78.615932,33.915523 L -78.6508874761,33.94506941 L -78.81171,34.081006 L -79.071169,34.29924 L -79.358317,34.545358 L -79.4502774577,34.620609135 L -79.4619655444,34.6301734827 L -79.675299,34.804744 L -79.6929483423,34.8049623312 L -79.9243064074,34.8078243456 L -79.9276017933,34.8078651112 L -80.077223,34.809716 L -80.320416313,34.8136141493 L -80.561657,34.817481 L -80.5616733914,34.8174814453 L -80.6257794118,34.8192228823 L -80.796997,34.823874 L -80.782042,34.935782 L -80.8405659157,35.0014704144 L -80.9062399541,35.0751842698 L -80.93495,35.107409 L -81.041489,35.044703 L -81.058029,35.07319 L -81.036759,35.122552 L -81.0422658118,35.1466085941 L -81.04287,35.149248 L -81.3280909893,35.1622859156 L -81.3676085886,35.1640923293 L -81.494265,35.169882 L -81.768087235,35.1797060139 L -81.8741125854,35.1835099217 L -81.9693358478,35.1869262792 L -82.039651,35.189449 L -82.0483912296,35.1896375434 L -82.2162487192,35.1932585487 L -82.295354,35.194965 L -82.3530215231,35.1987041605 L -82.411301,35.202483 L -82.455609,35.177425 L -82.53256,35.155617 L -82.577715545,35.1464752676 L -82.68604,35.124545 L -82.746431,35.079131 L -82.7620595521,35.081874436 L -82.783283,35.0856 L -82.897499,35.056021 L -83.0084348038,35.0269285115 L -83.108606,35.000659 L -83.1086129965,35.0006588437 L -83.322768,34.995874 L -83.4827047739,34.9908792213 L -83.5491805664,34.9888032018 L -83.619985,34.986592 L -83.9364129962,34.9874843429 L -83.936646,34.987485 L -84.0055096065,34.9876499982 L -84.129439037,34.987946935 L -84.321869,34.988408 L -84.2865999377,35.2057486116 z\" /></g></svg>"
      ],
      "text/plain": [
       "<shapely.geometry.polygon.Polygon at 0x7f0be875a3d0>"
      ]
     },
     "execution_count": 34,
     "metadata": {},
     "output_type": "execute_result"
    }
   ],
   "source": [
    "states['North Carolina']"
   ]
  },
  {
   "cell_type": "code",
   "execution_count": 37,
   "metadata": {
    "collapsed": true
   },
   "outputs": [],
   "source": [
    "def get_state(point):\n",
    "    for state_name, state_poly in states.items():\n",
    "        if state_poly.contains(Point(point)):\n",
    "            return state_name\n",
    "    return \"unknown\""
   ]
  },
  {
   "cell_type": "code",
   "execution_count": 38,
   "metadata": {
    "collapsed": false
   },
   "outputs": [
    {
     "data": {
      "text/plain": [
       "u'Texas'"
      ]
     },
     "execution_count": 38,
     "metadata": {},
     "output_type": "execute_result"
    }
   ],
   "source": [
    "get_state((-98.493628, 29.424122))"
   ]
  },
  {
   "cell_type": "code",
   "execution_count": 39,
   "metadata": {
    "collapsed": false
   },
   "outputs": [
    {
     "data": {
      "text/plain": [
       "u'Colorado'"
      ]
     },
     "execution_count": 39,
     "metadata": {},
     "output_type": "execute_result"
    }
   ],
   "source": [
    "get_state((-104.990251, 39.739236))"
   ]
  },
  {
   "cell_type": "code",
   "execution_count": null,
   "metadata": {
    "collapsed": true
   },
   "outputs": [],
   "source": []
  }
 ],
 "metadata": {
  "anaconda-cloud": {},
  "kernelspec": {
   "display_name": "Python [conda root]",
   "language": "python",
   "name": "conda-root-py"
  },
  "language_info": {
   "codemirror_mode": {
    "name": "ipython",
    "version": 2
   },
   "file_extension": ".py",
   "mimetype": "text/x-python",
   "name": "python",
   "nbconvert_exporter": "python",
   "pygments_lexer": "ipython2",
   "version": "2.7.12"
  }
 },
 "nbformat": 4,
 "nbformat_minor": 1
}
