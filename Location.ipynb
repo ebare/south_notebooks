{
 "cells": [
  {
   "cell_type": "markdown",
   "metadata": {},
   "source": [
    "Get state boundary data from census.gov: [cb_2015_us_state_20m.zip](http://www2.census.gov/geo/tiger/GENZ2015/shp/cb_2015_us_state_20m.zip)"
   ]
  },
  {
   "cell_type": "code",
   "execution_count": 2,
   "metadata": {
    "collapsed": false
   },
   "outputs": [
    {
     "name": "stdout",
     "output_type": "stream",
     "text": [
      "--2016-10-10 17:17:15--  http://www2.census.gov/geo/tiger/GENZ2015/shp/cb_2015_us_state_20m.zip\n",
      "Resolving www2.census.gov (www2.census.gov)... 23.64.188.33, 2001:428:2402:39a::208c, 2001:428:2402:38b::208c\n",
      "Connecting to www2.census.gov (www2.census.gov)|23.64.188.33|:80... connected.\n",
      "HTTP request sent, awaiting response... 200 OK\n",
      "Length: 191008 (187K) [application/zip]\n",
      "Saving to: ‘cb_2015_us_state_20m.zip’\n",
      "\n",
      "cb_2015_us_state_20 100%[=====================>] 186.53K  --.-KB/s   in 0s     \n",
      "\n",
      "2016-10-10 17:17:16 (529 MB/s) - ‘cb_2015_us_state_20m.zip’ saved [191008/191008]\n",
      "\n"
     ]
    }
   ],
   "source": [
    "!wget http://www2.census.gov/geo/tiger/GENZ2015/shp/cb_2015_us_state_20m.zip -N"
   ]
  },
  {
   "cell_type": "code",
   "execution_count": 3,
   "metadata": {
    "collapsed": false
   },
   "outputs": [
    {
     "name": "stdout",
     "output_type": "stream",
     "text": [
      "Archive:  cb_2015_us_state_20m.zip\r\n",
      "  inflating: cb_2015_us_state_20m.shp.ea.iso.xml  \r\n",
      "  inflating: cb_2015_us_state_20m.shp.iso.xml  \r\n",
      "  inflating: cb_2015_us_state_20m.shp.xml  \r\n",
      "  inflating: cb_2015_us_state_20m.shp  \r\n",
      "  inflating: cb_2015_us_state_20m.shx  \r\n",
      "  inflating: cb_2015_us_state_20m.dbf  \r\n",
      "  inflating: cb_2015_us_state_20m.prj  \r\n",
      " extracting: cb_2015_us_state_20m.cpg  \r\n"
     ]
    }
   ],
   "source": [
    "!unzip cb_2015_us_state_20m.zip"
   ]
  },
  {
   "cell_type": "markdown",
   "metadata": {},
   "source": [
    "Use fiona library to read shape file"
   ]
  },
  {
   "cell_type": "code",
   "execution_count": 4,
   "metadata": {
    "collapsed": false
   },
   "outputs": [],
   "source": [
    "import fiona\n",
    "us_states = fiona.open('cb_2015_us_state_20m.shp')"
   ]
  },
  {
   "cell_type": "markdown",
   "metadata": {},
   "source": [
    "Use shapely for point-in-polygon testing"
   ]
  },
  {
   "cell_type": "code",
   "execution_count": 5,
   "metadata": {
    "collapsed": false
   },
   "outputs": [],
   "source": [
    "from shapely.geometry import Polygon, Point"
   ]
  },
  {
   "cell_type": "code",
   "execution_count": 6,
   "metadata": {
    "collapsed": false
   },
   "outputs": [],
   "source": [
    "texas_geometry = [state.get('geometry').get('coordinates')[0] \n",
    "                  for state in us_states if state.get('properties')['NAME'] == 'Texas'][0]\n",
    "\n",
    "texas = Polygon(texas_geometry)"
   ]
  },
  {
   "cell_type": "markdown",
   "metadata": {},
   "source": [
    "Look up some test points from [NASA lat-long finder](https://mynasadata.larc.nasa.gov/latitudelongitude-finder/)\n",
    "\n",
    "* San Antonio: 29.424122, -98.493628\n",
    "* Houston: 29.760427, -95.369803\n",
    "* Denver: 39.739236, -104.990251"
   ]
  },
  {
   "cell_type": "code",
   "execution_count": 7,
   "metadata": {
    "collapsed": false
   },
   "outputs": [
    {
     "name": "stdout",
     "output_type": "stream",
     "text": [
      "San Antonio: True\n",
      "Houston: True\n",
      "Denver: False\n"
     ]
    }
   ],
   "source": [
    "cities = [\n",
    "    ('San Antonio', Point(-98.493628, 29.424122)),\n",
    "    ('Houston', Point(-95.369803, 29.760427)),\n",
    "    ('Denver', Point(-104.990251, 39.739236))]\n",
    "\n",
    "for city in cities:\n",
    "    print(city[0] + ': ' + str(texas.contains(city[1])))\n"
   ]
  },
  {
   "cell_type": "code",
   "execution_count": null,
   "metadata": {
    "collapsed": true
   },
   "outputs": [],
   "source": []
  }
 ],
 "metadata": {
  "anaconda-cloud": {},
  "kernelspec": {
   "display_name": "Python [conda root]",
   "language": "python",
   "name": "conda-root-py"
  },
  "language_info": {
   "codemirror_mode": {
    "name": "ipython",
    "version": 2
   },
   "file_extension": ".py",
   "mimetype": "text/x-python",
   "name": "python",
   "nbconvert_exporter": "python",
   "pygments_lexer": "ipython2",
   "version": "2.7.12"
  }
 },
 "nbformat": 4,
 "nbformat_minor": 1
}
